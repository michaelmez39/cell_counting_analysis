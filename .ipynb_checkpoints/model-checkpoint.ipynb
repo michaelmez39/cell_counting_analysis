{
 "cells": [
  {
   "cell_type": "code",
   "execution_count": 1,
   "id": "5fbaf0e3-33d0-4a71-b00f-d0258768bdce",
   "metadata": {},
   "outputs": [
    {
     "name": "stdout",
     "output_type": "stream",
     "text": [
      "2.8.0\n",
      "[PhysicalDevice(name='/physical_device:CPU:0', device_type='CPU'), PhysicalDevice(name='/physical_device:GPU:0', device_type='GPU')]\n"
     ]
    }
   ],
   "source": [
    "import tensorflow as tf\n",
    "from tensorflow import keras\n",
    "from tensorflow.keras import layers\n",
    "\n",
    "from sklearn.model_selection import train_test_split\n",
    "\n",
    "import cv2\n",
    "\n",
    "import numpy as np\n",
    "\n",
    "from matplotlib import pyplot as plt\n",
    "\n",
    "import os\n",
    "import shutil\n",
    "\n",
    "print(tf.__version__)\n",
    "print(tf.config.list_physical_devices())"
   ]
  },
  {
   "cell_type": "code",
   "execution_count": 2,
   "id": "6dcf7c3c-1d28-478a-9b19-14119d8af411",
   "metadata": {},
   "outputs": [],
   "source": [
    "class blocc(layers.Layer):\n",
    "    def __init__(self, filters, k_size, stride = 1, pad = 0, activation = layers.LeakyReLU()):\n",
    "        super().__init__()\n",
    "        self.pad = pad\n",
    "        self.conv1 = layers.Conv2D(filters, kernel_size = k_size, strides = stride, padding = 'valid')\n",
    "        self.activation = activation\n",
    "        self.batchNorm = layers.BatchNormalization()\n",
    "\n",
    "    def call(self, input_tensor, training = False):\n",
    "        input = input_tensor\n",
    "        if self.pad != 0:\n",
    "            input = tf.pad(input, [[0, 0], [self.pad, self.pad], [self.pad, self.pad], [0, 0]], 'constant')\n",
    "\n",
    "        x = self.conv1(input)\n",
    "        x = self.batchNorm(x, training = training)\n",
    "        return self.activation(x)\n",
    "\n",
    "class simplebloc(layers.Layer):\n",
    "    def __init__(self, out1, out3, activation = layers.LeakyReLU()):\n",
    "        super().__init__()\n",
    "\n",
    "        self.conv1 = blocc(out1, 1, pad = 0, activation = activation)\n",
    "        self.conv2 = blocc(out3, 3, pad = 1, activation = activation)\n",
    "\n",
    "    def call(self, input):\n",
    "        conv1_out = self.conv1(input)\n",
    "        conv2_out = self.conv2(input)\n",
    "\n",
    "        output = tf.concat(values = [conv1_out, conv2_out], axis = 3)\n",
    "        return output\n",
    "\n",
    "class full_model(keras.Model):\n",
    "    def __init__(self, in_channels = 3, out_channels = 1):\n",
    "        super().__init__()\n",
    "        self.in_channels = in_channels\n",
    "        self.out_channels = out_channels\n",
    "        self.activation = layers.LeakyReLU(0.01)\n",
    "        self.final_activation = layers.LeakyReLU(0.01)\n",
    "        self.patch_size = 32\n",
    "\n",
    "        self.conv1 = blocc(64, 3, pad = self.patch_size, activation = self.activation)\n",
    "        self.simple1 = simplebloc(16, 16, activation = self.activation)\n",
    "        self.simple2 = simplebloc(16, 32, activation = self.activation)\n",
    "        self.conv2 = blocc(16, 14, activation = self.activation)\n",
    "        self.simple3 = simplebloc(112, 48, activation=self.activation)\n",
    "        self.simple4 = simplebloc(64, 32, activation=self.activation)\n",
    "        self.simple5 = simplebloc(40, 40, activation=self.activation)\n",
    "        self.simple6 = simplebloc(32, 96, activation=self.activation)\n",
    "        self.conv3 = blocc(32, 18, activation=self.activation)\n",
    "        self.conv4 = blocc(64, 1, activation=self.activation)\n",
    "        self.conv5 = blocc(64, 1, activation=self.activation)\n",
    "\n",
    "        self.conv6 = blocc(self.out_channels, 1, activation = self.final_activation)\n",
    "\n",
    "    def call(self, input):\n",
    "        x = self.conv1(input)\n",
    "        x = self.simple1(x)\n",
    "        x = self.simple2(x)\n",
    "        x = self.conv2(x)\n",
    "        x = self.simple3(x)\n",
    "        x = self.simple4(x)\n",
    "        x = self.simple5(x)\n",
    "        x = self.simple6(x)\n",
    "        x = self.conv3(x)\n",
    "        x = self.conv4(x)\n",
    "        x = self.conv5(x)\n",
    "        x = self.conv6(x)\n",
    "        return x"
   ]
  },
  {
   "cell_type": "code",
   "execution_count": 3,
   "id": "3ec9bc90",
   "metadata": {},
   "outputs": [],
   "source": [
    "def load_data():\n",
    "    notation_path = '../mbm_data/labels'\n",
    "    image_path = '../mbm_data/image'\n",
    "    notations = []\n",
    "    images = []\n",
    "\n",
    "    dot_list = os.listdir(notation_path)\n",
    "    image_list = os.listdir(image_path)\n",
    "\n",
    "    for entry in dot_list:\n",
    "        img = cv2.imread(os.path.join(notation_path, entry))\n",
    "        # Insert any image preprocessing here!\n",
    "        img = cv2.cvtColor(img, cv2.COLOR_BGR2GRAY)\n",
    "        img = np.float32(img)\n",
    "        img = cv2.normalize(img, None, 0, 1, cv2.NORM_MINMAX)\n",
    "        img = img[..., np.newaxis]\n",
    "        \n",
    "        \n",
    "        notations.append(img)\n",
    "\n",
    "    for entry in image_list:\n",
    "        img = cv2.imread(os.path.join(image_path, entry))\n",
    "\n",
    "        # Insert any image preprocessing here! TODO\n",
    "\n",
    "        images.append(img)\n",
    "\n",
    "    return np.array(images), np.array(notations)\n",
    "\n",
    "def make_labels(debug = False):\n",
    "    file_path = '../mbm_data'\n",
    "    dir_name = 'labels'\n",
    "    dot_path = '../mbm_data/notation'\n",
    "\n",
    "    cur_dir = os.getcwd()\n",
    "    label_maker = layers.Conv2D(1, 32, padding='same', use_bias=False, kernel_initializer='Ones')\n",
    "    ret = []\n",
    "    notations = []\n",
    "\n",
    "    dot_list = os.listdir(dot_path)\n",
    "\n",
    "    for entry in dot_list:\n",
    "        img = cv2.imread(os.path.join(dot_path, entry))\n",
    "\n",
    "        img = cv2.cvtColor(img, cv2.COLOR_BGR2GRAY)\n",
    "        img = cv2.normalize(img, None, 0, 1, cv2.NORM_MINMAX)\n",
    "        img = np.float32(img)\n",
    "        img = img[..., np.newaxis]\n",
    "        notations.append(img)\n",
    "\n",
    "    notations = np.array(notations)\n",
    "\n",
    "    heat = label_maker(notations)\n",
    "    heat = heat.numpy()\n",
    "\n",
    "    if debug:\n",
    "        return heat\n",
    "\n",
    "    direct_path = os.path.join(file_path, dir_name)\n",
    "    if os.path.exists(direct_path):\n",
    "        shutil.rmtree(direct_path)\n",
    "\n",
    "    os.mkdir(direct_path)\n",
    "    \n",
    "    os.chdir(direct_path)\n",
    "    for i, img in enumerate(heat):\n",
    "        img_save = cv2.normalize(img, None, 0, 255, cv2.NORM_MINMAX)\n",
    "        cv2.imwrite('map' + dot_list[i], img_save)\n",
    "\n",
    "    os.chdir(cur_dir)"
   ]
  },
  {
   "cell_type": "code",
   "execution_count": 4,
   "id": "273d36e9",
   "metadata": {},
   "outputs": [],
   "source": [
    "#h = make_labels()"
   ]
  },
  {
   "cell_type": "code",
   "execution_count": 5,
   "id": "5cdc0958",
   "metadata": {},
   "outputs": [],
   "source": [
    "random_seed = 56\n",
    "x, y = load_data()"
   ]
  },
  {
   "cell_type": "code",
   "execution_count": 13,
   "id": "eccf0960",
   "metadata": {},
   "outputs": [],
   "source": [
    "x_train, x_test, y_train, y_test = train_test_split(\n",
    "    x, y, test_size=0.15, random_state=random_seed\n",
    ")\n",
    "\n",
    "x_train, x_val, y_train, y_val = train_test_split(\n",
    "    x_train, y_train, test_size=0.15, random_state=random_seed\n",
    ")\n",
    "\n",
    "x_train = np.float32(x_train)"
   ]
  },
  {
   "cell_type": "code",
   "execution_count": 14,
   "id": "e50acb29",
   "metadata": {},
   "outputs": [
    {
     "name": "stdout",
     "output_type": "stream",
     "text": [
      "Training:  (31, 600, 600, 3)\n",
      "Test:  (7, 600, 600, 3)\n",
      "Validation:  (6, 600, 600, 3)\n"
     ]
    }
   ],
   "source": [
    "print('Training: ', x_train.shape)\n",
    "print('Test: ', x_test.shape)\n",
    "print('Validation: ', x_val.shape)"
   ]
  },
  {
   "cell_type": "markdown",
   "id": "ac9234c8",
   "metadata": {},
   "source": [
    "### Loss: MAE/MSE\n",
    "### Optimizer: Adam\n",
    "### Epochs: 15\n",
    "### Batches: TBD"
   ]
  },
  {
   "cell_type": "code",
   "execution_count": 15,
   "id": "f4ae90d7",
   "metadata": {},
   "outputs": [
    {
     "name": "stdout",
     "output_type": "stream",
     "text": [
      "True\n",
      "Num GPUs Available:  1\n"
     ]
    }
   ],
   "source": [
    "print(tf.test.is_built_with_cuda())\n",
    "print(\"Num GPUs Available: \", len(tf.config.list_physical_devices('GPU')))"
   ]
  },
  {
   "cell_type": "code",
   "execution_count": 16,
   "id": "8fa561b6",
   "metadata": {},
   "outputs": [],
   "source": [
    "lr = 0.001\n",
    "epochs = 15\n",
    "batch = 4\n",
    "\n",
    "#loss = keras.losses.mean_absolute_error()\n",
    "opt = keras.optimizers.Adam(learning_rate=lr)\n",
    "\n",
    "model = full_model()\n",
    "\n",
    "model.compile(optimizer=opt, loss='mean_absolute_error', metrics=['Accuracy'])"
   ]
  },
  {
   "cell_type": "code",
   "execution_count": 17,
   "id": "47cfc6a3",
   "metadata": {},
   "outputs": [
    {
     "name": "stdout",
     "output_type": "stream",
     "text": [
      "Model: \"full_model_1\"\n",
      "_________________________________________________________________\n",
      " Layer (type)                Output Shape              Param #   \n",
      "=================================================================\n",
      " leaky_re_lu_4 (LeakyReLU)   multiple                  0         \n",
      "                                                                 \n",
      " leaky_re_lu_5 (LeakyReLU)   multiple                  0         \n",
      "                                                                 \n",
      " blocc_18 (blocc)            multiple                  2048      \n",
      "                                                                 \n",
      " simplebloc_6 (simplebloc)   multiple                  10400     \n",
      "                                                                 \n",
      " simplebloc_7 (simplebloc)   multiple                  9968      \n",
      "                                                                 \n",
      " blocc_23 (blocc)            multiple                  150608    \n",
      "                                                                 \n",
      " simplebloc_8 (simplebloc)   multiple                  9504      \n",
      "                                                                 \n",
      " simplebloc_9 (simplebloc)   multiple                  56800     \n",
      "                                                                 \n",
      " simplebloc_10 (simplebloc)  multiple                  38800     \n",
      "                                                                 \n",
      " simplebloc_11 (simplebloc)  multiple                  72320     \n",
      "                                                                 \n",
      " blocc_32 (blocc)            multiple                  1327264   \n",
      "                                                                 \n",
      " blocc_33 (blocc)            multiple                  2368      \n",
      "                                                                 \n",
      " blocc_34 (blocc)            multiple                  4416      \n",
      "                                                                 \n",
      " blocc_35 (blocc)            multiple                  69        \n",
      "                                                                 \n",
      "=================================================================\n",
      "Total params: 1,684,565\n",
      "Trainable params: 1,682,995\n",
      "Non-trainable params: 1,570\n",
      "_________________________________________________________________\n"
     ]
    }
   ],
   "source": [
    "shape = x_test.shape\n",
    "model.build(input_shape=shape)\n",
    "model.summary()"
   ]
  },
  {
   "cell_type": "code",
   "execution_count": 18,
   "id": "69868233",
   "metadata": {},
   "outputs": [
    {
     "name": "stdout",
     "output_type": "stream",
     "text": [
      "Epoch 1/15\n"
     ]
    },
    {
     "ename": "ValueError",
     "evalue": "in user code:\n\n    File \"C:\\Users\\asus\\anaconda3\\envs\\DeepLearning_TensorFlow\\lib\\site-packages\\keras\\engine\\training.py\", line 1021, in train_function  *\n        return step_function(self, iterator)\n    File \"C:\\Users\\asus\\anaconda3\\envs\\DeepLearning_TensorFlow\\lib\\site-packages\\keras\\engine\\training.py\", line 1010, in step_function  **\n        outputs = model.distribute_strategy.run(run_step, args=(data,))\n    File \"C:\\Users\\asus\\anaconda3\\envs\\DeepLearning_TensorFlow\\lib\\site-packages\\keras\\engine\\training.py\", line 1000, in run_step  **\n        outputs = model.train_step(data)\n    File \"C:\\Users\\asus\\anaconda3\\envs\\DeepLearning_TensorFlow\\lib\\site-packages\\keras\\engine\\training.py\", line 860, in train_step\n        loss = self.compute_loss(x, y, y_pred, sample_weight)\n    File \"C:\\Users\\asus\\anaconda3\\envs\\DeepLearning_TensorFlow\\lib\\site-packages\\keras\\engine\\training.py\", line 918, in compute_loss\n        return self.compiled_loss(\n    File \"C:\\Users\\asus\\anaconda3\\envs\\DeepLearning_TensorFlow\\lib\\site-packages\\keras\\engine\\compile_utils.py\", line 201, in __call__\n        loss_value = loss_obj(y_t, y_p, sample_weight=sw)\n    File \"C:\\Users\\asus\\anaconda3\\envs\\DeepLearning_TensorFlow\\lib\\site-packages\\keras\\losses.py\", line 141, in __call__\n        losses = call_fn(y_true, y_pred)\n    File \"C:\\Users\\asus\\anaconda3\\envs\\DeepLearning_TensorFlow\\lib\\site-packages\\keras\\losses.py\", line 245, in call  **\n        return ag_fn(y_true, y_pred, **self._fn_kwargs)\n    File \"C:\\Users\\asus\\anaconda3\\envs\\DeepLearning_TensorFlow\\lib\\site-packages\\keras\\losses.py\", line 1457, in mean_absolute_error\n        return backend.mean(tf.abs(y_pred - y_true), axis=-1)\n\n    ValueError: Dimensions must be equal, but are 632 and 600 for '{{node mean_absolute_error/sub}} = Sub[T=DT_FLOAT](full_model_1/blocc_35/leaky_re_lu_5/LeakyRelu, IteratorGetNext:1)' with input shapes: [?,632,632,1], [?,600,600,1].\n",
     "output_type": "error",
     "traceback": [
      "\u001b[1;31m---------------------------------------------------------------------------\u001b[0m",
      "\u001b[1;31mValueError\u001b[0m                                Traceback (most recent call last)",
      "Input \u001b[1;32mIn [18]\u001b[0m, in \u001b[0;36m<cell line: 1>\u001b[1;34m()\u001b[0m\n\u001b[1;32m----> 1\u001b[0m \u001b[43mmodel\u001b[49m\u001b[38;5;241;43m.\u001b[39;49m\u001b[43mfit\u001b[49m\u001b[43m(\u001b[49m\u001b[43mx_train\u001b[49m\u001b[43m,\u001b[49m\u001b[43m \u001b[49m\u001b[43my_train\u001b[49m\u001b[43m,\u001b[49m\u001b[43m \u001b[49m\u001b[43mepochs\u001b[49m\u001b[38;5;241;43m=\u001b[39;49m\u001b[43mepochs\u001b[49m\u001b[43m,\u001b[49m\u001b[43m \u001b[49m\u001b[43mbatch_size\u001b[49m\u001b[38;5;241;43m=\u001b[39;49m\u001b[43mbatch\u001b[49m\u001b[43m,\u001b[49m\u001b[43m \u001b[49m\u001b[43mvalidation_data\u001b[49m\u001b[38;5;241;43m=\u001b[39;49m\u001b[43m(\u001b[49m\u001b[43mx_val\u001b[49m\u001b[43m,\u001b[49m\u001b[43m \u001b[49m\u001b[43my_val\u001b[49m\u001b[43m)\u001b[49m\u001b[43m)\u001b[49m\n",
      "File \u001b[1;32m~\\anaconda3\\envs\\DeepLearning_TensorFlow\\lib\\site-packages\\keras\\utils\\traceback_utils.py:67\u001b[0m, in \u001b[0;36mfilter_traceback.<locals>.error_handler\u001b[1;34m(*args, **kwargs)\u001b[0m\n\u001b[0;32m     65\u001b[0m \u001b[38;5;28;01mexcept\u001b[39;00m \u001b[38;5;167;01mException\u001b[39;00m \u001b[38;5;28;01mas\u001b[39;00m e:  \u001b[38;5;66;03m# pylint: disable=broad-except\u001b[39;00m\n\u001b[0;32m     66\u001b[0m   filtered_tb \u001b[38;5;241m=\u001b[39m _process_traceback_frames(e\u001b[38;5;241m.\u001b[39m__traceback__)\n\u001b[1;32m---> 67\u001b[0m   \u001b[38;5;28;01mraise\u001b[39;00m e\u001b[38;5;241m.\u001b[39mwith_traceback(filtered_tb) \u001b[38;5;28;01mfrom\u001b[39;00m \u001b[38;5;28mNone\u001b[39m\n\u001b[0;32m     68\u001b[0m \u001b[38;5;28;01mfinally\u001b[39;00m:\n\u001b[0;32m     69\u001b[0m   \u001b[38;5;28;01mdel\u001b[39;00m filtered_tb\n",
      "File \u001b[1;32m~\\anaconda3\\envs\\DeepLearning_TensorFlow\\lib\\site-packages\\tensorflow\\python\\framework\\func_graph.py:1147\u001b[0m, in \u001b[0;36mfunc_graph_from_py_func.<locals>.autograph_handler\u001b[1;34m(*args, **kwargs)\u001b[0m\n\u001b[0;32m   1145\u001b[0m \u001b[38;5;28;01mexcept\u001b[39;00m \u001b[38;5;167;01mException\u001b[39;00m \u001b[38;5;28;01mas\u001b[39;00m e:  \u001b[38;5;66;03m# pylint:disable=broad-except\u001b[39;00m\n\u001b[0;32m   1146\u001b[0m   \u001b[38;5;28;01mif\u001b[39;00m \u001b[38;5;28mhasattr\u001b[39m(e, \u001b[38;5;124m\"\u001b[39m\u001b[38;5;124mag_error_metadata\u001b[39m\u001b[38;5;124m\"\u001b[39m):\n\u001b[1;32m-> 1147\u001b[0m     \u001b[38;5;28;01mraise\u001b[39;00m e\u001b[38;5;241m.\u001b[39mag_error_metadata\u001b[38;5;241m.\u001b[39mto_exception(e)\n\u001b[0;32m   1148\u001b[0m   \u001b[38;5;28;01melse\u001b[39;00m:\n\u001b[0;32m   1149\u001b[0m     \u001b[38;5;28;01mraise\u001b[39;00m\n",
      "\u001b[1;31mValueError\u001b[0m: in user code:\n\n    File \"C:\\Users\\asus\\anaconda3\\envs\\DeepLearning_TensorFlow\\lib\\site-packages\\keras\\engine\\training.py\", line 1021, in train_function  *\n        return step_function(self, iterator)\n    File \"C:\\Users\\asus\\anaconda3\\envs\\DeepLearning_TensorFlow\\lib\\site-packages\\keras\\engine\\training.py\", line 1010, in step_function  **\n        outputs = model.distribute_strategy.run(run_step, args=(data,))\n    File \"C:\\Users\\asus\\anaconda3\\envs\\DeepLearning_TensorFlow\\lib\\site-packages\\keras\\engine\\training.py\", line 1000, in run_step  **\n        outputs = model.train_step(data)\n    File \"C:\\Users\\asus\\anaconda3\\envs\\DeepLearning_TensorFlow\\lib\\site-packages\\keras\\engine\\training.py\", line 860, in train_step\n        loss = self.compute_loss(x, y, y_pred, sample_weight)\n    File \"C:\\Users\\asus\\anaconda3\\envs\\DeepLearning_TensorFlow\\lib\\site-packages\\keras\\engine\\training.py\", line 918, in compute_loss\n        return self.compiled_loss(\n    File \"C:\\Users\\asus\\anaconda3\\envs\\DeepLearning_TensorFlow\\lib\\site-packages\\keras\\engine\\compile_utils.py\", line 201, in __call__\n        loss_value = loss_obj(y_t, y_p, sample_weight=sw)\n    File \"C:\\Users\\asus\\anaconda3\\envs\\DeepLearning_TensorFlow\\lib\\site-packages\\keras\\losses.py\", line 141, in __call__\n        losses = call_fn(y_true, y_pred)\n    File \"C:\\Users\\asus\\anaconda3\\envs\\DeepLearning_TensorFlow\\lib\\site-packages\\keras\\losses.py\", line 245, in call  **\n        return ag_fn(y_true, y_pred, **self._fn_kwargs)\n    File \"C:\\Users\\asus\\anaconda3\\envs\\DeepLearning_TensorFlow\\lib\\site-packages\\keras\\losses.py\", line 1457, in mean_absolute_error\n        return backend.mean(tf.abs(y_pred - y_true), axis=-1)\n\n    ValueError: Dimensions must be equal, but are 632 and 600 for '{{node mean_absolute_error/sub}} = Sub[T=DT_FLOAT](full_model_1/blocc_35/leaky_re_lu_5/LeakyRelu, IteratorGetNext:1)' with input shapes: [?,632,632,1], [?,600,600,1].\n"
     ]
    }
   ],
   "source": [
    "model.fit(x_train, y_train, epochs=epochs, batch_size=batch, validation_data=(x_val, y_val))"
   ]
  },
  {
   "cell_type": "code",
   "execution_count": null,
   "id": "1cf9e4bf-1b12-430c-b08a-81674a05d200",
   "metadata": {},
   "outputs": [],
   "source": []
  }
 ],
 "metadata": {
  "kernelspec": {
   "display_name": "Python 3 (ipykernel)",
   "language": "python",
   "name": "python3"
  },
  "language_info": {
   "codemirror_mode": {
    "name": "ipython",
    "version": 3
   },
   "file_extension": ".py",
   "mimetype": "text/x-python",
   "name": "python",
   "nbconvert_exporter": "python",
   "pygments_lexer": "ipython3",
   "version": "3.8.13"
  }
 },
 "nbformat": 4,
 "nbformat_minor": 5
}
