{
 "cells": [
  {
   "cell_type": "code",
   "execution_count": 1,
   "id": "5fbaf0e3-33d0-4a71-b00f-d0258768bdce",
   "metadata": {},
   "outputs": [
    {
     "name": "stdout",
     "output_type": "stream",
     "text": [
      "2.8.0\n",
      "[PhysicalDevice(name='/physical_device:CPU:0', device_type='CPU'), PhysicalDevice(name='/physical_device:GPU:0', device_type='GPU')]\n"
     ]
    }
   ],
   "source": [
    "import tensorflow as tf\n",
    "from tensorflow import keras\n",
    "from tensorflow.keras import layers\n",
    "\n",
    "from sklearn.model_selection import train_test_split\n",
    "\n",
    "import cv2\n",
    "\n",
    "import numpy as np\n",
    "\n",
    "from matplotlib import pyplot as plt\n",
    "\n",
    "import os\n",
    "import shutil\n",
    "\n",
    "print(tf.__version__)\n",
    "print(tf.config.list_physical_devices())"
   ]
  },
  {
   "cell_type": "code",
   "execution_count": 2,
   "id": "6dcf7c3c-1d28-478a-9b19-14119d8af411",
   "metadata": {},
   "outputs": [],
   "source": [
    "class blocc(layers.Layer):\n",
    "    def __init__(self, filters, k_size, stride = 1, pad = 0, activation = layers.LeakyReLU()):\n",
    "        super().__init__()\n",
    "        self.pad = pad\n",
    "        self.conv1 = layers.Conv2D(filters, kernel_size = k_size, strides = stride, padding = 'valid')\n",
    "        self.activation = activation\n",
    "        self.batchNorm = layers.BatchNormalization()\n",
    "\n",
    "    def call(self, input_tensor, training = False):\n",
    "        input = input_tensor\n",
    "        if self.pad != 0:\n",
    "            input = tf.pad(input, [[0, 0], [self.pad, self.pad], [self.pad, self.pad], [0, 0]], 'constant')\n",
    "\n",
    "        x = self.conv1(input)\n",
    "        x = self.batchNorm(x, training = training)\n",
    "        return self.activation(x)\n",
    "\n",
    "class simplebloc(layers.Layer):\n",
    "    def __init__(self, out1, out3, activation = layers.LeakyReLU()):\n",
    "        super().__init__()\n",
    "\n",
    "        self.conv1 = blocc(out1, 1, pad = 0, activation = activation)\n",
    "        self.conv2 = blocc(out3, 3, pad = 1, activation = activation)\n",
    "\n",
    "    def call(self, input):\n",
    "        conv1_out = self.conv1(input)\n",
    "        conv2_out = self.conv2(input)\n",
    "\n",
    "        output = tf.concat(values = [conv1_out, conv2_out], axis = 3)\n",
    "        return output\n",
    "\n",
    "class full_model(keras.Model):\n",
    "    def __init__(self, in_channels = 3, out_channels = 1):\n",
    "        super().__init__()\n",
    "        self.in_channels = in_channels\n",
    "        self.out_channels = out_channels\n",
    "        self.activation = layers.LeakyReLU(0.01)\n",
    "        self.final_activation = layers.LeakyReLU(0.01)\n",
    "        self.patch_size = 32\n",
    "\n",
    "        self.conv1 = blocc(64, 3, pad = self.patch_size, activation = self.activation)\n",
    "        self.simple1 = simplebloc(16, 16, activation = self.activation)\n",
    "        self.simple2 = simplebloc(16, 32, activation = self.activation)\n",
    "        self.conv2 = blocc(16, 14, activation = self.activation)\n",
    "        self.simple3 = simplebloc(112, 48, activation=self.activation)\n",
    "        self.simple4 = simplebloc(64, 32, activation=self.activation)\n",
    "        self.simple5 = simplebloc(40, 40, activation=self.activation)\n",
    "        self.simple6 = simplebloc(32, 96, activation=self.activation)\n",
    "        self.conv3 = blocc(32, 18, activation=self.activation)\n",
    "        self.conv4 = blocc(64, 1, activation=self.activation)\n",
    "        self.conv5 = blocc(64, 1, activation=self.activation)\n",
    "\n",
    "        self.conv6 = blocc(self.out_channels, 1, activation = self.final_activation)\n",
    "\n",
    "    def call(self, input):\n",
    "        x = self.conv1(input)\n",
    "        x = self.simple1(x)\n",
    "        x = self.simple2(x)\n",
    "        x = self.conv2(x)\n",
    "        x = self.simple3(x)\n",
    "        x = self.simple4(x)\n",
    "        x = self.simple5(x)\n",
    "        x = self.simple6(x)\n",
    "        x = self.conv3(x)\n",
    "        x = self.conv4(x)\n",
    "        x = self.conv5(x)\n",
    "        x = self.conv6(x)\n",
    "        return x"
   ]
  },
  {
   "cell_type": "code",
   "execution_count": 3,
   "id": "3ec9bc90",
   "metadata": {},
   "outputs": [],
   "source": [
    "def load_data():\n",
    "    notation_path = '../mbm_data/labels'\n",
    "    image_path = '../mbm_data/image'\n",
    "    notations = []\n",
    "    images = []\n",
    "\n",
    "    dot_list = os.listdir(notation_path)\n",
    "    image_list = os.listdir(image_path)\n",
    "\n",
    "    for entry in dot_list:\n",
    "        img = cv2.imread(os.path.join(notation_path, entry))\n",
    "        # Insert any image preprocessing here!\n",
    "        img = cv2.cvtColor(img, cv2.COLOR_BGR2GRAY)\n",
    "        img = np.float32(img)\n",
    "        img = cv2.normalize(img, None, 0, 1, cv2.NORM_MINMAX)\n",
    "        img = img[..., np.newaxis]\n",
    "        \n",
    "        \n",
    "        notations.append(img)\n",
    "\n",
    "    for entry in image_list:\n",
    "        img = cv2.imread(os.path.join(image_path, entry))\n",
    "\n",
    "        # Insert any image preprocessing here! TODO\n",
    "\n",
    "        images.append(img)\n",
    "\n",
    "    return np.array(images), np.array(notations)\n",
    "\n",
    "def make_labels(debug = False):\n",
    "    file_path = '../mbm_data'\n",
    "    dir_name = 'labels'\n",
    "    dot_path = '../mbm_data/notation'\n",
    "\n",
    "    cur_dir = os.getcwd()\n",
    "    label_maker = layers.Conv2D(1, 32, padding='same', use_bias=False, kernel_initializer='Ones')\n",
    "    ret = []\n",
    "    notations = []\n",
    "\n",
    "    dot_list = os.listdir(dot_path)\n",
    "\n",
    "    for entry in dot_list:\n",
    "        img = cv2.imread(os.path.join(dot_path, entry))\n",
    "\n",
    "        img = cv2.cvtColor(img, cv2.COLOR_BGR2GRAY)\n",
    "        img = cv2.normalize(img, None, 0, 1, cv2.NORM_MINMAX)\n",
    "        img = np.float32(img)\n",
    "        img = img[..., np.newaxis]\n",
    "        notations.append(img)\n",
    "\n",
    "    notations = np.array(notations)\n",
    "    pads = tf.pad(notations, [[0, 0], [16, 16], [16, 16], [0, 0]], 'constant')\n",
    "    heat = label_maker(pads)\n",
    "    heat = heat.numpy()\n",
    "\n",
    "    if debug:\n",
    "        return heat\n",
    "\n",
    "    direct_path = os.path.join(file_path, dir_name)\n",
    "    if os.path.exists(direct_path):\n",
    "        shutil.rmtree(direct_path)\n",
    "\n",
    "    os.mkdir(direct_path)\n",
    "    \n",
    "    os.chdir(direct_path)\n",
    "    for i, img in enumerate(heat):\n",
    "        img_save = cv2.normalize(img, None, 0, 255, cv2.NORM_MINMAX)\n",
    "        cv2.imwrite('map' + dot_list[i], img_save)\n",
    "\n",
    "    os.chdir(cur_dir)"
   ]
  },
  {
   "cell_type": "code",
   "execution_count": 4,
   "id": "273d36e9",
   "metadata": {},
   "outputs": [],
   "source": [
    "#h = make_labels()"
   ]
  },
  {
   "cell_type": "code",
   "execution_count": 5,
   "id": "5cdc0958",
   "metadata": {},
   "outputs": [],
   "source": [
    "random_seed = 56\n",
    "x, y = load_data()"
   ]
  },
  {
   "cell_type": "code",
   "execution_count": 6,
   "id": "eccf0960",
   "metadata": {},
   "outputs": [],
   "source": [
    "x_train, x_test, y_train, y_test = train_test_split(\n",
    "    x, y, test_size=0.15, random_state=random_seed\n",
    ")\n",
    "\n",
    "x_train, x_val, y_train, y_val = train_test_split(\n",
    "    x_train, y_train, test_size=0.15, random_state=random_seed\n",
    ")\n",
    "\n",
    "x_train = np.float32(x_train)"
   ]
  },
  {
   "cell_type": "code",
   "execution_count": 7,
   "id": "e50acb29",
   "metadata": {},
   "outputs": [
    {
     "name": "stdout",
     "output_type": "stream",
     "text": [
      "Training:  (31, 600, 600, 3)\n",
      "Test:  (7, 600, 600, 3)\n",
      "Validation:  (6, 600, 600, 3)\n",
      "-----Labels-----\n",
      "Training:  (31, 632, 632, 1)\n",
      "Test:  (7, 632, 632, 1)\n",
      "Validation:  (6, 632, 632, 1)\n"
     ]
    }
   ],
   "source": [
    "print('Training: ', x_train.shape)\n",
    "print('Test: ', x_test.shape)\n",
    "print('Validation: ', x_val.shape)\n",
    "\n",
    "print('-----Labels-----')\n",
    "print('Training: ', y_train.shape)\n",
    "print('Test: ', y_test.shape)\n",
    "print('Validation: ', y_val.shape)"
   ]
  },
  {
   "cell_type": "markdown",
   "id": "ac9234c8",
   "metadata": {},
   "source": [
    "### Loss: MAE/MSE\n",
    "### Optimizer: Adam\n",
    "### Epochs: 15\n",
    "### Batches: TBD"
   ]
  },
  {
   "cell_type": "code",
   "execution_count": 8,
   "id": "f4ae90d7",
   "metadata": {},
   "outputs": [
    {
     "name": "stdout",
     "output_type": "stream",
     "text": [
      "True\n",
      "Num GPUs Available:  1\n"
     ]
    }
   ],
   "source": [
    "print(tf.test.is_built_with_cuda())\n",
    "print(\"Num GPUs Available: \", len(tf.config.list_physical_devices('GPU')))"
   ]
  },
  {
   "cell_type": "code",
   "execution_count": 9,
   "id": "8fa561b6",
   "metadata": {},
   "outputs": [],
   "source": [
    "lr = 0.001\n",
    "epochs = 15\n",
    "batch = 1\n",
    "\n",
    "#loss = keras.losses.mean_absolute_error()\n",
    "opt = keras.optimizers.Adam(learning_rate=lr)\n",
    "\n",
    "model = full_model()\n",
    "\n",
    "model.compile(optimizer=opt, loss='mean_absolute_error', metrics=['Accuracy'])"
   ]
  },
  {
   "cell_type": "code",
   "execution_count": 10,
   "id": "47cfc6a3",
   "metadata": {},
   "outputs": [
    {
     "name": "stdout",
     "output_type": "stream",
     "text": [
      "Model: \"full_model\"\n",
      "_________________________________________________________________\n",
      " Layer (type)                Output Shape              Param #   \n",
      "=================================================================\n",
      " leaky_re_lu_2 (LeakyReLU)   multiple                  0         \n",
      "                                                                 \n",
      " leaky_re_lu_3 (LeakyReLU)   multiple                  0         \n",
      "                                                                 \n",
      " blocc (blocc)               multiple                  2048      \n",
      "                                                                 \n",
      " simplebloc (simplebloc)     multiple                  10400     \n",
      "                                                                 \n",
      " simplebloc_1 (simplebloc)   multiple                  9968      \n",
      "                                                                 \n",
      " blocc_5 (blocc)             multiple                  150608    \n",
      "                                                                 \n",
      " simplebloc_2 (simplebloc)   multiple                  9504      \n",
      "                                                                 \n",
      " simplebloc_3 (simplebloc)   multiple                  56800     \n",
      "                                                                 \n",
      " simplebloc_4 (simplebloc)   multiple                  38800     \n",
      "                                                                 \n",
      " simplebloc_5 (simplebloc)   multiple                  72320     \n",
      "                                                                 \n",
      " blocc_14 (blocc)            multiple                  1327264   \n",
      "                                                                 \n",
      " blocc_15 (blocc)            multiple                  2368      \n",
      "                                                                 \n",
      " blocc_16 (blocc)            multiple                  4416      \n",
      "                                                                 \n",
      " blocc_17 (blocc)            multiple                  69        \n",
      "                                                                 \n",
      "=================================================================\n",
      "Total params: 1,684,565\n",
      "Trainable params: 1,682,995\n",
      "Non-trainable params: 1,570\n",
      "_________________________________________________________________\n"
     ]
    }
   ],
   "source": [
    "shape = x_test.shape\n",
    "model.build(input_shape=shape)\n",
    "model.summary()"
   ]
  },
  {
   "cell_type": "code",
   "execution_count": 11,
   "id": "69868233",
   "metadata": {},
   "outputs": [
    {
     "name": "stdout",
     "output_type": "stream",
     "text": [
      "Epoch 1/15\n"
     ]
    },
    {
     "ename": "ResourceExhaustedError",
     "evalue": "Graph execution error:\n\nDetected at node 'full_model/simplebloc_2/blocc_6/conv2d_6/Conv2D' defined at (most recent call last):\n    File \"C:\\Users\\asus\\anaconda3\\envs\\DeepLearning_TensorFlow\\lib\\runpy.py\", line 194, in _run_module_as_main\n      return _run_code(code, main_globals, None,\n    File \"C:\\Users\\asus\\anaconda3\\envs\\DeepLearning_TensorFlow\\lib\\runpy.py\", line 87, in _run_code\n      exec(code, run_globals)\n    File \"C:\\Users\\asus\\anaconda3\\envs\\DeepLearning_TensorFlow\\lib\\site-packages\\ipykernel_launcher.py\", line 16, in <module>\n      app.launch_new_instance()\n    File \"C:\\Users\\asus\\anaconda3\\envs\\DeepLearning_TensorFlow\\lib\\site-packages\\traitlets\\config\\application.py\", line 846, in launch_instance\n      app.start()\n    File \"C:\\Users\\asus\\anaconda3\\envs\\DeepLearning_TensorFlow\\lib\\site-packages\\ipykernel\\kernelapp.py\", line 677, in start\n      self.io_loop.start()\n    File \"C:\\Users\\asus\\anaconda3\\envs\\DeepLearning_TensorFlow\\lib\\site-packages\\tornado\\platform\\asyncio.py\", line 199, in start\n      self.asyncio_loop.run_forever()\n    File \"C:\\Users\\asus\\anaconda3\\envs\\DeepLearning_TensorFlow\\lib\\asyncio\\base_events.py\", line 570, in run_forever\n      self._run_once()\n    File \"C:\\Users\\asus\\anaconda3\\envs\\DeepLearning_TensorFlow\\lib\\asyncio\\base_events.py\", line 1859, in _run_once\n      handle._run()\n    File \"C:\\Users\\asus\\anaconda3\\envs\\DeepLearning_TensorFlow\\lib\\asyncio\\events.py\", line 81, in _run\n      self._context.run(self._callback, *self._args)\n    File \"C:\\Users\\asus\\anaconda3\\envs\\DeepLearning_TensorFlow\\lib\\site-packages\\ipykernel\\kernelbase.py\", line 471, in dispatch_queue\n      await self.process_one()\n    File \"C:\\Users\\asus\\anaconda3\\envs\\DeepLearning_TensorFlow\\lib\\site-packages\\ipykernel\\kernelbase.py\", line 460, in process_one\n      await dispatch(*args)\n    File \"C:\\Users\\asus\\anaconda3\\envs\\DeepLearning_TensorFlow\\lib\\site-packages\\ipykernel\\kernelbase.py\", line 367, in dispatch_shell\n      await result\n    File \"C:\\Users\\asus\\anaconda3\\envs\\DeepLearning_TensorFlow\\lib\\site-packages\\ipykernel\\kernelbase.py\", line 662, in execute_request\n      reply_content = await reply_content\n    File \"C:\\Users\\asus\\anaconda3\\envs\\DeepLearning_TensorFlow\\lib\\site-packages\\ipykernel\\ipkernel.py\", line 360, in do_execute\n      res = shell.run_cell(code, store_history=store_history, silent=silent)\n    File \"C:\\Users\\asus\\anaconda3\\envs\\DeepLearning_TensorFlow\\lib\\site-packages\\ipykernel\\zmqshell.py\", line 532, in run_cell\n      return super().run_cell(*args, **kwargs)\n    File \"C:\\Users\\asus\\anaconda3\\envs\\DeepLearning_TensorFlow\\lib\\site-packages\\IPython\\core\\interactiveshell.py\", line 2854, in run_cell\n      result = self._run_cell(\n    File \"C:\\Users\\asus\\anaconda3\\envs\\DeepLearning_TensorFlow\\lib\\site-packages\\IPython\\core\\interactiveshell.py\", line 2900, in _run_cell\n      return runner(coro)\n    File \"C:\\Users\\asus\\anaconda3\\envs\\DeepLearning_TensorFlow\\lib\\site-packages\\IPython\\core\\async_helpers.py\", line 129, in _pseudo_sync_runner\n      coro.send(None)\n    File \"C:\\Users\\asus\\anaconda3\\envs\\DeepLearning_TensorFlow\\lib\\site-packages\\IPython\\core\\interactiveshell.py\", line 3098, in run_cell_async\n      has_raised = await self.run_ast_nodes(code_ast.body, cell_name,\n    File \"C:\\Users\\asus\\anaconda3\\envs\\DeepLearning_TensorFlow\\lib\\site-packages\\IPython\\core\\interactiveshell.py\", line 3301, in run_ast_nodes\n      if await self.run_code(code, result, async_=asy):\n    File \"C:\\Users\\asus\\anaconda3\\envs\\DeepLearning_TensorFlow\\lib\\site-packages\\IPython\\core\\interactiveshell.py\", line 3361, in run_code\n      exec(code_obj, self.user_global_ns, self.user_ns)\n    File \"C:\\Users\\asus\\AppData\\Local\\Temp\\ipykernel_18380\\273089774.py\", line 1, in <cell line: 1>\n      model.fit(x_train, y_train, epochs=epochs, batch_size=batch, validation_data=(x_val, y_val))\n    File \"C:\\Users\\asus\\anaconda3\\envs\\DeepLearning_TensorFlow\\lib\\site-packages\\keras\\utils\\traceback_utils.py\", line 64, in error_handler\n      return fn(*args, **kwargs)\n    File \"C:\\Users\\asus\\anaconda3\\envs\\DeepLearning_TensorFlow\\lib\\site-packages\\keras\\engine\\training.py\", line 1384, in fit\n      tmp_logs = self.train_function(iterator)\n    File \"C:\\Users\\asus\\anaconda3\\envs\\DeepLearning_TensorFlow\\lib\\site-packages\\keras\\engine\\training.py\", line 1021, in train_function\n      return step_function(self, iterator)\n    File \"C:\\Users\\asus\\anaconda3\\envs\\DeepLearning_TensorFlow\\lib\\site-packages\\keras\\engine\\training.py\", line 1010, in step_function\n      outputs = model.distribute_strategy.run(run_step, args=(data,))\n    File \"C:\\Users\\asus\\anaconda3\\envs\\DeepLearning_TensorFlow\\lib\\site-packages\\keras\\engine\\training.py\", line 1000, in run_step\n      outputs = model.train_step(data)\n    File \"C:\\Users\\asus\\anaconda3\\envs\\DeepLearning_TensorFlow\\lib\\site-packages\\keras\\engine\\training.py\", line 859, in train_step\n      y_pred = self(x, training=True)\n    File \"C:\\Users\\asus\\anaconda3\\envs\\DeepLearning_TensorFlow\\lib\\site-packages\\keras\\utils\\traceback_utils.py\", line 64, in error_handler\n      return fn(*args, **kwargs)\n    File \"C:\\Users\\asus\\anaconda3\\envs\\DeepLearning_TensorFlow\\lib\\site-packages\\keras\\engine\\base_layer.py\", line 1096, in __call__\n      outputs = call_fn(inputs, *args, **kwargs)\n    File \"C:\\Users\\asus\\anaconda3\\envs\\DeepLearning_TensorFlow\\lib\\site-packages\\keras\\utils\\traceback_utils.py\", line 92, in error_handler\n      return fn(*args, **kwargs)\n    File \"C:\\Users\\asus\\AppData\\Local\\Temp\\ipykernel_18380\\3238199371.py\", line 60, in call\n      x = self.simple3(x)\n    File \"C:\\Users\\asus\\anaconda3\\envs\\DeepLearning_TensorFlow\\lib\\site-packages\\keras\\utils\\traceback_utils.py\", line 64, in error_handler\n      return fn(*args, **kwargs)\n    File \"C:\\Users\\asus\\anaconda3\\envs\\DeepLearning_TensorFlow\\lib\\site-packages\\keras\\engine\\base_layer.py\", line 1096, in __call__\n      outputs = call_fn(inputs, *args, **kwargs)\n    File \"C:\\Users\\asus\\anaconda3\\envs\\DeepLearning_TensorFlow\\lib\\site-packages\\keras\\utils\\traceback_utils.py\", line 92, in error_handler\n      return fn(*args, **kwargs)\n    File \"C:\\Users\\asus\\AppData\\Local\\Temp\\ipykernel_18380\\3238199371.py\", line 26, in call\n      conv1_out = self.conv1(input)\n    File \"C:\\Users\\asus\\anaconda3\\envs\\DeepLearning_TensorFlow\\lib\\site-packages\\keras\\utils\\traceback_utils.py\", line 64, in error_handler\n      return fn(*args, **kwargs)\n    File \"C:\\Users\\asus\\anaconda3\\envs\\DeepLearning_TensorFlow\\lib\\site-packages\\keras\\engine\\base_layer.py\", line 1096, in __call__\n      outputs = call_fn(inputs, *args, **kwargs)\n    File \"C:\\Users\\asus\\anaconda3\\envs\\DeepLearning_TensorFlow\\lib\\site-packages\\keras\\utils\\traceback_utils.py\", line 92, in error_handler\n      return fn(*args, **kwargs)\n    File \"C:\\Users\\asus\\AppData\\Local\\Temp\\ipykernel_18380\\3238199371.py\", line 14, in call\n      x = self.conv1(input)\n    File \"C:\\Users\\asus\\anaconda3\\envs\\DeepLearning_TensorFlow\\lib\\site-packages\\keras\\utils\\traceback_utils.py\", line 64, in error_handler\n      return fn(*args, **kwargs)\n    File \"C:\\Users\\asus\\anaconda3\\envs\\DeepLearning_TensorFlow\\lib\\site-packages\\keras\\engine\\base_layer.py\", line 1096, in __call__\n      outputs = call_fn(inputs, *args, **kwargs)\n    File \"C:\\Users\\asus\\anaconda3\\envs\\DeepLearning_TensorFlow\\lib\\site-packages\\keras\\utils\\traceback_utils.py\", line 92, in error_handler\n      return fn(*args, **kwargs)\n    File \"C:\\Users\\asus\\anaconda3\\envs\\DeepLearning_TensorFlow\\lib\\site-packages\\keras\\layers\\convolutional.py\", line 248, in call\n      outputs = self.convolution_op(inputs, self.kernel)\n    File \"C:\\Users\\asus\\anaconda3\\envs\\DeepLearning_TensorFlow\\lib\\site-packages\\keras\\layers\\convolutional.py\", line 233, in convolution_op\n      return tf.nn.convolution(\nNode: 'full_model/simplebloc_2/blocc_6/conv2d_6/Conv2D'\nOOM when allocating tensor with shape[1,112,649,649] and type float on /job:localhost/replica:0/task:0/device:GPU:0 by allocator GPU_0_bfc\n\t [[{{node full_model/simplebloc_2/blocc_6/conv2d_6/Conv2D}}]]\nHint: If you want to see a list of allocated tensors when OOM happens, add report_tensor_allocations_upon_oom to RunOptions for current allocation info. This isn't available when running in Eager mode.\n [Op:__inference_train_function_4584]",
     "output_type": "error",
     "traceback": [
      "\u001b[1;31m---------------------------------------------------------------------------\u001b[0m",
      "\u001b[1;31mResourceExhaustedError\u001b[0m                    Traceback (most recent call last)",
      "\u001b[1;32mc:\\Users\\asus\\Documents\\2022 Spring Classes\\Senior Project\\cell_counting_analysis\\model.ipynb Cell 12'\u001b[0m in \u001b[0;36m<cell line: 1>\u001b[1;34m()\u001b[0m\n\u001b[1;32m----> <a href='vscode-notebook-cell:/c%3A/Users/asus/Documents/2022%20Spring%20Classes/Senior%20Project/cell_counting_analysis/model.ipynb#ch0000011?line=0'>1</a>\u001b[0m model\u001b[39m.\u001b[39;49mfit(x_train, y_train, epochs\u001b[39m=\u001b[39;49mepochs, batch_size\u001b[39m=\u001b[39;49mbatch, validation_data\u001b[39m=\u001b[39;49m(x_val, y_val))\n",
      "File \u001b[1;32m~\\anaconda3\\envs\\DeepLearning_TensorFlow\\lib\\site-packages\\keras\\utils\\traceback_utils.py:67\u001b[0m, in \u001b[0;36mfilter_traceback.<locals>.error_handler\u001b[1;34m(*args, **kwargs)\u001b[0m\n\u001b[0;32m     <a href='file:///c%3A/Users/asus/anaconda3/envs/DeepLearning_TensorFlow/lib/site-packages/keras/utils/traceback_utils.py?line=64'>65</a>\u001b[0m \u001b[39mexcept\u001b[39;00m \u001b[39mException\u001b[39;00m \u001b[39mas\u001b[39;00m e:  \u001b[39m# pylint: disable=broad-except\u001b[39;00m\n\u001b[0;32m     <a href='file:///c%3A/Users/asus/anaconda3/envs/DeepLearning_TensorFlow/lib/site-packages/keras/utils/traceback_utils.py?line=65'>66</a>\u001b[0m   filtered_tb \u001b[39m=\u001b[39m _process_traceback_frames(e\u001b[39m.\u001b[39m__traceback__)\n\u001b[1;32m---> <a href='file:///c%3A/Users/asus/anaconda3/envs/DeepLearning_TensorFlow/lib/site-packages/keras/utils/traceback_utils.py?line=66'>67</a>\u001b[0m   \u001b[39mraise\u001b[39;00m e\u001b[39m.\u001b[39mwith_traceback(filtered_tb) \u001b[39mfrom\u001b[39;00m \u001b[39mNone\u001b[39m\n\u001b[0;32m     <a href='file:///c%3A/Users/asus/anaconda3/envs/DeepLearning_TensorFlow/lib/site-packages/keras/utils/traceback_utils.py?line=67'>68</a>\u001b[0m \u001b[39mfinally\u001b[39;00m:\n\u001b[0;32m     <a href='file:///c%3A/Users/asus/anaconda3/envs/DeepLearning_TensorFlow/lib/site-packages/keras/utils/traceback_utils.py?line=68'>69</a>\u001b[0m   \u001b[39mdel\u001b[39;00m filtered_tb\n",
      "File \u001b[1;32m~\\anaconda3\\envs\\DeepLearning_TensorFlow\\lib\\site-packages\\tensorflow\\python\\eager\\execute.py:54\u001b[0m, in \u001b[0;36mquick_execute\u001b[1;34m(op_name, num_outputs, inputs, attrs, ctx, name)\u001b[0m\n\u001b[0;32m     <a href='file:///c%3A/Users/asus/anaconda3/envs/DeepLearning_TensorFlow/lib/site-packages/tensorflow/python/eager/execute.py?line=51'>52</a>\u001b[0m \u001b[39mtry\u001b[39;00m:\n\u001b[0;32m     <a href='file:///c%3A/Users/asus/anaconda3/envs/DeepLearning_TensorFlow/lib/site-packages/tensorflow/python/eager/execute.py?line=52'>53</a>\u001b[0m   ctx\u001b[39m.\u001b[39mensure_initialized()\n\u001b[1;32m---> <a href='file:///c%3A/Users/asus/anaconda3/envs/DeepLearning_TensorFlow/lib/site-packages/tensorflow/python/eager/execute.py?line=53'>54</a>\u001b[0m   tensors \u001b[39m=\u001b[39m pywrap_tfe\u001b[39m.\u001b[39mTFE_Py_Execute(ctx\u001b[39m.\u001b[39m_handle, device_name, op_name,\n\u001b[0;32m     <a href='file:///c%3A/Users/asus/anaconda3/envs/DeepLearning_TensorFlow/lib/site-packages/tensorflow/python/eager/execute.py?line=54'>55</a>\u001b[0m                                       inputs, attrs, num_outputs)\n\u001b[0;32m     <a href='file:///c%3A/Users/asus/anaconda3/envs/DeepLearning_TensorFlow/lib/site-packages/tensorflow/python/eager/execute.py?line=55'>56</a>\u001b[0m \u001b[39mexcept\u001b[39;00m core\u001b[39m.\u001b[39m_NotOkStatusException \u001b[39mas\u001b[39;00m e:\n\u001b[0;32m     <a href='file:///c%3A/Users/asus/anaconda3/envs/DeepLearning_TensorFlow/lib/site-packages/tensorflow/python/eager/execute.py?line=56'>57</a>\u001b[0m   \u001b[39mif\u001b[39;00m name \u001b[39mis\u001b[39;00m \u001b[39mnot\u001b[39;00m \u001b[39mNone\u001b[39;00m:\n",
      "\u001b[1;31mResourceExhaustedError\u001b[0m: Graph execution error:\n\nDetected at node 'full_model/simplebloc_2/blocc_6/conv2d_6/Conv2D' defined at (most recent call last):\n    File \"C:\\Users\\asus\\anaconda3\\envs\\DeepLearning_TensorFlow\\lib\\runpy.py\", line 194, in _run_module_as_main\n      return _run_code(code, main_globals, None,\n    File \"C:\\Users\\asus\\anaconda3\\envs\\DeepLearning_TensorFlow\\lib\\runpy.py\", line 87, in _run_code\n      exec(code, run_globals)\n    File \"C:\\Users\\asus\\anaconda3\\envs\\DeepLearning_TensorFlow\\lib\\site-packages\\ipykernel_launcher.py\", line 16, in <module>\n      app.launch_new_instance()\n    File \"C:\\Users\\asus\\anaconda3\\envs\\DeepLearning_TensorFlow\\lib\\site-packages\\traitlets\\config\\application.py\", line 846, in launch_instance\n      app.start()\n    File \"C:\\Users\\asus\\anaconda3\\envs\\DeepLearning_TensorFlow\\lib\\site-packages\\ipykernel\\kernelapp.py\", line 677, in start\n      self.io_loop.start()\n    File \"C:\\Users\\asus\\anaconda3\\envs\\DeepLearning_TensorFlow\\lib\\site-packages\\tornado\\platform\\asyncio.py\", line 199, in start\n      self.asyncio_loop.run_forever()\n    File \"C:\\Users\\asus\\anaconda3\\envs\\DeepLearning_TensorFlow\\lib\\asyncio\\base_events.py\", line 570, in run_forever\n      self._run_once()\n    File \"C:\\Users\\asus\\anaconda3\\envs\\DeepLearning_TensorFlow\\lib\\asyncio\\base_events.py\", line 1859, in _run_once\n      handle._run()\n    File \"C:\\Users\\asus\\anaconda3\\envs\\DeepLearning_TensorFlow\\lib\\asyncio\\events.py\", line 81, in _run\n      self._context.run(self._callback, *self._args)\n    File \"C:\\Users\\asus\\anaconda3\\envs\\DeepLearning_TensorFlow\\lib\\site-packages\\ipykernel\\kernelbase.py\", line 471, in dispatch_queue\n      await self.process_one()\n    File \"C:\\Users\\asus\\anaconda3\\envs\\DeepLearning_TensorFlow\\lib\\site-packages\\ipykernel\\kernelbase.py\", line 460, in process_one\n      await dispatch(*args)\n    File \"C:\\Users\\asus\\anaconda3\\envs\\DeepLearning_TensorFlow\\lib\\site-packages\\ipykernel\\kernelbase.py\", line 367, in dispatch_shell\n      await result\n    File \"C:\\Users\\asus\\anaconda3\\envs\\DeepLearning_TensorFlow\\lib\\site-packages\\ipykernel\\kernelbase.py\", line 662, in execute_request\n      reply_content = await reply_content\n    File \"C:\\Users\\asus\\anaconda3\\envs\\DeepLearning_TensorFlow\\lib\\site-packages\\ipykernel\\ipkernel.py\", line 360, in do_execute\n      res = shell.run_cell(code, store_history=store_history, silent=silent)\n    File \"C:\\Users\\asus\\anaconda3\\envs\\DeepLearning_TensorFlow\\lib\\site-packages\\ipykernel\\zmqshell.py\", line 532, in run_cell\n      return super().run_cell(*args, **kwargs)\n    File \"C:\\Users\\asus\\anaconda3\\envs\\DeepLearning_TensorFlow\\lib\\site-packages\\IPython\\core\\interactiveshell.py\", line 2854, in run_cell\n      result = self._run_cell(\n    File \"C:\\Users\\asus\\anaconda3\\envs\\DeepLearning_TensorFlow\\lib\\site-packages\\IPython\\core\\interactiveshell.py\", line 2900, in _run_cell\n      return runner(coro)\n    File \"C:\\Users\\asus\\anaconda3\\envs\\DeepLearning_TensorFlow\\lib\\site-packages\\IPython\\core\\async_helpers.py\", line 129, in _pseudo_sync_runner\n      coro.send(None)\n    File \"C:\\Users\\asus\\anaconda3\\envs\\DeepLearning_TensorFlow\\lib\\site-packages\\IPython\\core\\interactiveshell.py\", line 3098, in run_cell_async\n      has_raised = await self.run_ast_nodes(code_ast.body, cell_name,\n    File \"C:\\Users\\asus\\anaconda3\\envs\\DeepLearning_TensorFlow\\lib\\site-packages\\IPython\\core\\interactiveshell.py\", line 3301, in run_ast_nodes\n      if await self.run_code(code, result, async_=asy):\n    File \"C:\\Users\\asus\\anaconda3\\envs\\DeepLearning_TensorFlow\\lib\\site-packages\\IPython\\core\\interactiveshell.py\", line 3361, in run_code\n      exec(code_obj, self.user_global_ns, self.user_ns)\n    File \"C:\\Users\\asus\\AppData\\Local\\Temp\\ipykernel_18380\\273089774.py\", line 1, in <cell line: 1>\n      model.fit(x_train, y_train, epochs=epochs, batch_size=batch, validation_data=(x_val, y_val))\n    File \"C:\\Users\\asus\\anaconda3\\envs\\DeepLearning_TensorFlow\\lib\\site-packages\\keras\\utils\\traceback_utils.py\", line 64, in error_handler\n      return fn(*args, **kwargs)\n    File \"C:\\Users\\asus\\anaconda3\\envs\\DeepLearning_TensorFlow\\lib\\site-packages\\keras\\engine\\training.py\", line 1384, in fit\n      tmp_logs = self.train_function(iterator)\n    File \"C:\\Users\\asus\\anaconda3\\envs\\DeepLearning_TensorFlow\\lib\\site-packages\\keras\\engine\\training.py\", line 1021, in train_function\n      return step_function(self, iterator)\n    File \"C:\\Users\\asus\\anaconda3\\envs\\DeepLearning_TensorFlow\\lib\\site-packages\\keras\\engine\\training.py\", line 1010, in step_function\n      outputs = model.distribute_strategy.run(run_step, args=(data,))\n    File \"C:\\Users\\asus\\anaconda3\\envs\\DeepLearning_TensorFlow\\lib\\site-packages\\keras\\engine\\training.py\", line 1000, in run_step\n      outputs = model.train_step(data)\n    File \"C:\\Users\\asus\\anaconda3\\envs\\DeepLearning_TensorFlow\\lib\\site-packages\\keras\\engine\\training.py\", line 859, in train_step\n      y_pred = self(x, training=True)\n    File \"C:\\Users\\asus\\anaconda3\\envs\\DeepLearning_TensorFlow\\lib\\site-packages\\keras\\utils\\traceback_utils.py\", line 64, in error_handler\n      return fn(*args, **kwargs)\n    File \"C:\\Users\\asus\\anaconda3\\envs\\DeepLearning_TensorFlow\\lib\\site-packages\\keras\\engine\\base_layer.py\", line 1096, in __call__\n      outputs = call_fn(inputs, *args, **kwargs)\n    File \"C:\\Users\\asus\\anaconda3\\envs\\DeepLearning_TensorFlow\\lib\\site-packages\\keras\\utils\\traceback_utils.py\", line 92, in error_handler\n      return fn(*args, **kwargs)\n    File \"C:\\Users\\asus\\AppData\\Local\\Temp\\ipykernel_18380\\3238199371.py\", line 60, in call\n      x = self.simple3(x)\n    File \"C:\\Users\\asus\\anaconda3\\envs\\DeepLearning_TensorFlow\\lib\\site-packages\\keras\\utils\\traceback_utils.py\", line 64, in error_handler\n      return fn(*args, **kwargs)\n    File \"C:\\Users\\asus\\anaconda3\\envs\\DeepLearning_TensorFlow\\lib\\site-packages\\keras\\engine\\base_layer.py\", line 1096, in __call__\n      outputs = call_fn(inputs, *args, **kwargs)\n    File \"C:\\Users\\asus\\anaconda3\\envs\\DeepLearning_TensorFlow\\lib\\site-packages\\keras\\utils\\traceback_utils.py\", line 92, in error_handler\n      return fn(*args, **kwargs)\n    File \"C:\\Users\\asus\\AppData\\Local\\Temp\\ipykernel_18380\\3238199371.py\", line 26, in call\n      conv1_out = self.conv1(input)\n    File \"C:\\Users\\asus\\anaconda3\\envs\\DeepLearning_TensorFlow\\lib\\site-packages\\keras\\utils\\traceback_utils.py\", line 64, in error_handler\n      return fn(*args, **kwargs)\n    File \"C:\\Users\\asus\\anaconda3\\envs\\DeepLearning_TensorFlow\\lib\\site-packages\\keras\\engine\\base_layer.py\", line 1096, in __call__\n      outputs = call_fn(inputs, *args, **kwargs)\n    File \"C:\\Users\\asus\\anaconda3\\envs\\DeepLearning_TensorFlow\\lib\\site-packages\\keras\\utils\\traceback_utils.py\", line 92, in error_handler\n      return fn(*args, **kwargs)\n    File \"C:\\Users\\asus\\AppData\\Local\\Temp\\ipykernel_18380\\3238199371.py\", line 14, in call\n      x = self.conv1(input)\n    File \"C:\\Users\\asus\\anaconda3\\envs\\DeepLearning_TensorFlow\\lib\\site-packages\\keras\\utils\\traceback_utils.py\", line 64, in error_handler\n      return fn(*args, **kwargs)\n    File \"C:\\Users\\asus\\anaconda3\\envs\\DeepLearning_TensorFlow\\lib\\site-packages\\keras\\engine\\base_layer.py\", line 1096, in __call__\n      outputs = call_fn(inputs, *args, **kwargs)\n    File \"C:\\Users\\asus\\anaconda3\\envs\\DeepLearning_TensorFlow\\lib\\site-packages\\keras\\utils\\traceback_utils.py\", line 92, in error_handler\n      return fn(*args, **kwargs)\n    File \"C:\\Users\\asus\\anaconda3\\envs\\DeepLearning_TensorFlow\\lib\\site-packages\\keras\\layers\\convolutional.py\", line 248, in call\n      outputs = self.convolution_op(inputs, self.kernel)\n    File \"C:\\Users\\asus\\anaconda3\\envs\\DeepLearning_TensorFlow\\lib\\site-packages\\keras\\layers\\convolutional.py\", line 233, in convolution_op\n      return tf.nn.convolution(\nNode: 'full_model/simplebloc_2/blocc_6/conv2d_6/Conv2D'\nOOM when allocating tensor with shape[1,112,649,649] and type float on /job:localhost/replica:0/task:0/device:GPU:0 by allocator GPU_0_bfc\n\t [[{{node full_model/simplebloc_2/blocc_6/conv2d_6/Conv2D}}]]\nHint: If you want to see a list of allocated tensors when OOM happens, add report_tensor_allocations_upon_oom to RunOptions for current allocation info. This isn't available when running in Eager mode.\n [Op:__inference_train_function_4584]"
     ]
    }
   ],
   "source": [
    "model.fit(x_train, y_train, epochs=epochs, batch_size=batch, validation_data=(x_val, y_val))"
   ]
  },
  {
   "cell_type": "code",
   "execution_count": null,
   "id": "1cf9e4bf-1b12-430c-b08a-81674a05d200",
   "metadata": {},
   "outputs": [],
   "source": []
  }
 ],
 "metadata": {
  "kernelspec": {
   "display_name": "Python 3 (ipykernel)",
   "language": "python",
   "name": "python3"
  },
  "language_info": {
   "codemirror_mode": {
    "name": "ipython",
    "version": 3
   },
   "file_extension": ".py",
   "mimetype": "text/x-python",
   "name": "python",
   "nbconvert_exporter": "python",
   "pygments_lexer": "ipython3",
   "version": "3.8.13"
  }
 },
 "nbformat": 4,
 "nbformat_minor": 5
}
