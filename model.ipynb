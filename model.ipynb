{
 "cells": [
  {
   "cell_type": "code",
   "execution_count": 71,
   "id": "5fbaf0e3-33d0-4a71-b00f-d0258768bdce",
   "metadata": {},
   "outputs": [],
   "source": [
    "import tensorflow as tf\n",
    "from tensorflow import keras\n",
    "from tensorflow.keras import layers\n",
    "\n",
    "from sklearn.model_selection import train_test_split\n",
    "\n",
    "import cv2\n",
    "\n",
    "import numpy as np\n",
    "\n",
    "from matplotlib import pyplot as plt\n",
    "\n",
    "import os"
   ]
  },
  {
   "cell_type": "code",
   "execution_count": 55,
   "id": "6dcf7c3c-1d28-478a-9b19-14119d8af411",
   "metadata": {},
   "outputs": [],
   "source": [
    "class blocc(layers.Layer):\n",
    "    def __init__(self, filters, k_size, stride = 1, pad = 0, activation = layers.LeakyReLU()):\n",
    "        super().__init__()\n",
    "        self.pad = pad\n",
    "        self.conv1 = layers.Conv2D(filters, kernel_size = k_size, strides = stride, padding = 'valid')\n",
    "        self.activation = activation\n",
    "        self.batchNorm = layers.BatchNormalization()\n",
    "\n",
    "    def call(self, input_tensor, training = False):\n",
    "        input = input_tensor\n",
    "        if self.pad != 0:\n",
    "            input = tf.pad(input, [[0, 0], [self.pad, self.pad], [self.pad, self.pad], [0, 0]], 'constant')\n",
    "\n",
    "        x = self.conv1(input)\n",
    "        x = self.batchNorm(x, training = training)\n",
    "        return self.activation(x)\n",
    "\n",
    "class simplebloc(layers.Layer):\n",
    "    def __init__(self, out1, out3, activation = layers.LeakyReLU()):\n",
    "        super().__init__()\n",
    "\n",
    "        self.conv1 = blocc(out1, 1, pad = 0, activation = activation)\n",
    "        self.conv2 = blocc(out3, 3, pad = 1, activation = activation)\n",
    "\n",
    "    def call(self, input):\n",
    "        conv1_out = self.conv1(input)\n",
    "        conv2_out = self.conv2(input)\n",
    "\n",
    "        output = tf.concat(values = [conv1_out, conv2_out], axis = 3)\n",
    "        return output\n",
    "\n",
    "class full_model(keras.Model):\n",
    "    def __init__(self, in_channels = 3, out_channels = 1):\n",
    "        super().__init__()\n",
    "        self.in_channels = in_channels\n",
    "        self.out_channels = out_channels\n",
    "        self.activation = layers.LeakyReLU(0.01)\n",
    "        self.final_activation = layers.LeakyReLU(0.01)\n",
    "        self.patch_size = 32\n",
    "\n",
    "        self.conv1 = blocc(64, 3, pad = self.patch_size, activation = self.activation)\n",
    "        self.simple1 = simplebloc(16, 16, activation = self.activation)\n",
    "        self.simple2 = simplebloc(16, 32, activation = self.activation)\n",
    "        self.conv2 = blocc(16, 14, activation = self.activation)\n",
    "        self.simple3 = simplebloc(112, 48, activation=self.activation)\n",
    "        self.simple4 = simplebloc(64, 32, activation=self.activation)\n",
    "        self.simple5 = simplebloc(40, 40, activation=self.activation)\n",
    "        self.simple6 = simplebloc(32, 96, activation=self.activation)\n",
    "        self.conv3 = blocc(32, 18, activation=self.activation)\n",
    "        self.conv4 = blocc(64, 1, activation=self.activation)\n",
    "        self.conv5 = blocc(64, 1, activation=self.activation)\n",
    "\n",
    "        self.conv6 = blocc(self.out_channels, 1, activation = self.final_activation)\n",
    "\n",
    "    def call(self, input):\n",
    "        x = self.conv1(input)\n",
    "        x = self.simple1(x)\n",
    "        x = self.simple2(x)\n",
    "        x = self.conv2(x)\n",
    "        x = self.simple3(x)\n",
    "        x = self.simple4(x)\n",
    "        x = self.simple5(x)\n",
    "        x = self.simple6(x)\n",
    "        x = self.conv3(x)\n",
    "        x = self.conv4(x)\n",
    "        x = self.conv5(x)\n",
    "        x = self.conv6(x)\n",
    "        return x"
   ]
  },
  {
   "cell_type": "code",
   "execution_count": 64,
   "id": "3ec9bc90",
   "metadata": {},
   "outputs": [],
   "source": [
    "def load_data():\n",
    "    dot_path = '../mbm_data/notation'\n",
    "    image_path = '../mbm_data/image'\n",
    "    notations = []\n",
    "    images = []\n",
    "\n",
    "    dot_list = os.listdir(dot_path)\n",
    "    image_list = os.listdir(image_path)\n",
    "\n",
    "    for entry in dot_list:\n",
    "        img = cv2.imread(os.path.join(dot_path, entry))\n",
    "        notations.append(img)\n",
    "\n",
    "    for entry in image_list:\n",
    "        img = cv2.imread(os.path.join(image_path, entry))\n",
    "        images.append(img)\n",
    "\n",
    "    return np.array(images), np.array(notations)"
   ]
  },
  {
   "cell_type": "code",
   "execution_count": 80,
   "id": "5cdc0958",
   "metadata": {},
   "outputs": [],
   "source": [
    "random_seed = 56\n",
    "x, y = load_data()\n",
    "\n",
    "# Insert any preprocessing here! TODO"
   ]
  },
  {
   "cell_type": "code",
   "execution_count": 81,
   "id": "eccf0960",
   "metadata": {},
   "outputs": [],
   "source": [
    "x_train, x_test, y_train, y_test = train_test_split(\n",
    "    x, y, test_size=0.15, random_state=random_seed\n",
    ")\n",
    "\n",
    "x_train, x_val, y_train, y_val = train_test_split(\n",
    "    x_train, y_train, test_size=0.15, random_state=random_seed\n",
    ")"
   ]
  },
  {
   "cell_type": "code",
   "execution_count": 82,
   "id": "e50acb29",
   "metadata": {},
   "outputs": [
    {
     "name": "stdout",
     "output_type": "stream",
     "text": [
      "Training:  (31, 600, 600, 3)\n",
      "Test:  (7, 600, 600, 3)\n",
      "Validation:  (6, 600, 600, 3)\n"
     ]
    }
   ],
   "source": [
    "print('Training: ', x_train.shape)\n",
    "print('Test: ', x_test.shape)\n",
    "print('Validation: ', x_val.shape)"
   ]
  },
  {
   "cell_type": "code",
   "execution_count": null,
   "id": "8fa561b6",
   "metadata": {},
   "outputs": [],
   "source": [
    "# Find a good loss\n",
    "# Find a good optimizer\n",
    "# Find epochs\n",
    "# Find batches\n",
    "model = full_model()\n"
   ]
  }
 ],
 "metadata": {
  "kernelspec": {
   "display_name": "Python 3 (ipykernel)",
   "language": "python",
   "name": "python3"
  },
  "language_info": {
   "codemirror_mode": {
    "name": "ipython",
    "version": 3
   },
   "file_extension": ".py",
   "mimetype": "text/x-python",
   "name": "python",
   "nbconvert_exporter": "python",
   "pygments_lexer": "ipython3",
   "version": "3.8.12"
  }
 },
 "nbformat": 4,
 "nbformat_minor": 5
}
